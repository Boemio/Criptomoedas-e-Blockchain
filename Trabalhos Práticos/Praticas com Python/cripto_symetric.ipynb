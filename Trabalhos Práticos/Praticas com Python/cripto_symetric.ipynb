{
  "nbformat": 4,
  "nbformat_minor": 0,
  "metadata": {
    "colab": {
      "provenance": [],
      "collapsed_sections": []
    },
    "kernelspec": {
      "name": "python3",
      "display_name": "Python 3"
    },
    "language_info": {
      "name": "python"
    }
  },
  "cells": [
    {
      "cell_type": "markdown",
      "metadata": {
        "id": "2GwM0Mr0VNL3"
      },
      "source": [
        "This code is based on https://cutt.ly/uv5yddP"
      ]
    },
    {
      "cell_type": "code",
      "metadata": {
        "colab": {
          "base_uri": "https://localhost:8080/"
        },
        "id": "Gg7z0GFsT_rN",
        "outputId": "556c1142-9093-45c6-d386-6aadd03648d8"
      },
      "source": [
        "!pip install pYDes"
      ],
      "execution_count": 115,
      "outputs": [
        {
          "output_type": "stream",
          "name": "stdout",
          "text": [
            "Looking in indexes: https://pypi.org/simple, https://us-python.pkg.dev/colab-wheels/public/simple/\n",
            "Requirement already satisfied: pYDes in /usr/local/lib/python3.7/dist-packages (2.0.1)\n"
          ]
        }
      ]
    },
    {
      "cell_type": "code",
      "metadata": {
        "id": "lzx0AupsUQTn"
      },
      "source": [
        "import pyDes"
      ],
      "execution_count": 116,
      "outputs": []
    },
    {
      "cell_type": "code",
      "source": [
        "def crypt_function(data,k):\n",
        "  d = k.encrypt(data)\n",
        "  decrypted = k.decrypt(d)\n",
        "  print(\"Encrypted: %r\" % d)\n",
        "  print(\"Decrypted: %r\" % decrypted)\n",
        "  assert k.decrypt(d) == data, \"something went wrong\""
      ],
      "metadata": {
        "id": "tFk4diaqA6_y"
      },
      "execution_count": 117,
      "outputs": []
    },
    {
      "cell_type": "code",
      "metadata": {
        "id": "uujWwWB0UdQF"
      },
      "source": [
        "data = b\"Please encrypt my data\"\n",
        "k = pyDes.des(\"DESCRYPT\", pyDes.CBC, b\"\\0\\0\\0\\0\\0\\0\\0\\0\", pad=None, padmode=pyDes.PAD_PKCS5)"
      ],
      "execution_count": 118,
      "outputs": []
    },
    {
      "cell_type": "code",
      "source": [
        "crypt_function(data,k)"
      ],
      "metadata": {
        "id": "jCS3wnLlCwBI",
        "outputId": "26127477-9116-4e97-9d23-ef4927041807",
        "colab": {
          "base_uri": "https://localhost:8080/"
        }
      },
      "execution_count": 119,
      "outputs": [
        {
          "output_type": "stream",
          "name": "stdout",
          "text": [
            "Encrypted: b'o\\xceSef\\xe6\\xa6\\x8f\\x82\\x98\\xc7V\\xd0I\\xdc\\x03\\x1e\\x97\\xe4\\x99&\\x07\\x9cI'\n",
            "Decrypted: b'Please encrypt my data'\n"
          ]
        }
      ]
    }
  ]
}