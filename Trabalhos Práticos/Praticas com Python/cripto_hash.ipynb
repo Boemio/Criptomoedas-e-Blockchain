{
  "nbformat": 4,
  "nbformat_minor": 0,
  "metadata": {
    "colab": {
      "provenance": [],
      "collapsed_sections": []
    },
    "kernelspec": {
      "name": "python3",
      "display_name": "Python 3"
    },
    "language_info": {
      "name": "python"
    }
  },
  "cells": [
    {
      "cell_type": "code",
      "metadata": {
        "colab": {
          "base_uri": "https://localhost:8080/"
        },
        "id": "TD2VOXpBvhun",
        "outputId": "b451154f-e754-43e6-98e3-f8c8d798af7b"
      },
      "source": [
        "!pip install pycrypto"
      ],
      "execution_count": 216,
      "outputs": [
        {
          "output_type": "stream",
          "name": "stdout",
          "text": [
            "Looking in indexes: https://pypi.org/simple, https://us-python.pkg.dev/colab-wheels/public/simple/\n",
            "Requirement already satisfied: pycrypto in /usr/local/lib/python3.7/dist-packages (2.6.1)\n"
          ]
        }
      ]
    },
    {
      "cell_type": "code",
      "metadata": {
        "id": "E2TpdXrhu8y-"
      },
      "source": [
        "from Crypto.Hash import SHA256\n",
        "import socket \n",
        "from socket import *\n",
        "import hashlib"
      ],
      "execution_count": 217,
      "outputs": []
    },
    {
      "cell_type": "code",
      "metadata": {
        "id": "gRiinhiZwChJ"
      },
      "source": [
        "def gerar_hash(data):\n",
        "  return hashlib.sha256(str(data).encode('utf-8')).hexdigest()"
      ],
      "execution_count": 218,
      "outputs": []
    },
    {
      "cell_type": "code",
      "metadata": {
        "id": "TQp90w4UwGud"
      },
      "source": [
        "def checar_hash(teste, data_enc):\n",
        "  return gerar_hash(teste) == data_enc"
      ],
      "execution_count": 219,
      "outputs": []
    },
    {
      "cell_type": "code",
      "source": [
        "def mensagem_hash():\n",
        "  cadeia = input('Input lowercase sentence: ')\n",
        "  cadeia_hash = gerar_hash(cadeia)\n",
        "  return cadeia_hash"
      ],
      "metadata": {
        "id": "3ZjERSW50PbR"
      },
      "execution_count": 220,
      "outputs": []
    },
    {
      "cell_type": "code",
      "source": [
        "# SERVER\n",
        "\n",
        "serverPort = 15000\n",
        "serverSocket = socket(AF_INET,SOCK_STREAM)\n",
        "serverSocket.bind(('0.0.0.0',serverPort))\n",
        "serverSocket.listen(1)\n",
        "print('The server is ready to receive')\n",
        "while 1:\n",
        "     connectionSocket, addr = serverSocket.accept()\n",
        "\n",
        "     sentence = connectionSocket.recv(1024)\n",
        "     print(\"TCP Receive\", sentence, \"FROM\", addr)\n",
        "\n",
        "     capitalizedSentence = sentence.upper()\n",
        "     connectionSocket.send(capitalizedSentence)\n",
        "     connectionSocket.close()"
      ],
      "metadata": {
        "id": "2-26eS7vp7YT"
      },
      "execution_count": null,
      "outputs": []
    },
    {
      "cell_type": "code",
      "source": [
        "# CLIENT\n",
        "\n",
        "serverName = \"localhost\"\n",
        "serverPort = 15000\n",
        "clientSocket = socket(AF_INET, SOCK_STREAM)\n",
        "clientSocket.connect((serverName,serverPort))\n",
        "sentence = bytes(mensagem_hash(), 'utf_8')\n",
        "clientSocket.send(sentence)\n",
        "modifiedSentence = clientSocket.recv(1024)\n",
        "print(\"From TCP Server:\", modifiedSentence.decode('utf_8'))\n",
        "clientSocket.close()"
      ],
      "metadata": {
        "id": "HQED1we7xBGG"
      },
      "execution_count": null,
      "outputs": []
    }
  ]
}